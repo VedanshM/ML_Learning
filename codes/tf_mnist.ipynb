{
  "nbformat": 4,
  "nbformat_minor": 0,
  "metadata": {
    "kernelspec": {
      "display_name": "Python 3",
      "language": "python",
      "name": "python3"
    },
    "language_info": {
      "codemirror_mode": {
        "name": "ipython",
        "version": 3
      },
      "file_extension": ".py",
      "mimetype": "text/x-python",
      "name": "python",
      "nbconvert_exporter": "python",
      "pygments_lexer": "ipython3",
      "version": "3.8.2"
    },
    "varInspector": {
      "cols": {
        "lenName": 16,
        "lenType": 16,
        "lenVar": 40
      },
      "kernels_config": {
        "python": {
          "delete_cmd_postfix": "",
          "delete_cmd_prefix": "del ",
          "library": "var_list.py",
          "varRefreshCmd": "print(var_dic_list())"
        },
        "r": {
          "delete_cmd_postfix": ") ",
          "delete_cmd_prefix": "rm(",
          "library": "var_list.r",
          "varRefreshCmd": "cat(var_dic_list()) "
        }
      },
      "position": {
        "height": "333.517px",
        "left": "582px",
        "right": "20px",
        "top": "138px",
        "width": "635.667px"
      },
      "types_to_exclude": [
        "module",
        "function",
        "builtin_function_or_method",
        "instance",
        "_Feature"
      ],
      "window_display": false
    },
    "colab": {
      "name": "tf_mnist.ipynb",
      "provenance": []
    }
  },
  "cells": [
    {
      "cell_type": "code",
      "metadata": {
        "ExecuteTime": {
          "end_time": "2020-07-13T12:03:31.737716Z",
          "start_time": "2020-07-13T12:03:31.334025Z"
        },
        "id": "7Ha6lXr8PZO7",
        "colab_type": "code",
        "colab": {}
      },
      "source": [
        "import numpy as np\n",
        "import pandas as pd \n",
        "import matplotlib.pyplot as plt"
      ],
      "execution_count": null,
      "outputs": []
    },
    {
      "cell_type": "code",
      "metadata": {
        "ExecuteTime": {
          "end_time": "2020-07-13T12:04:30.129208Z",
          "start_time": "2020-07-13T12:03:34.231211Z"
        },
        "id": "hhOVCkCtPZPE",
        "colab_type": "code",
        "colab": {}
      },
      "source": [
        "import tensorflow as tf "
      ],
      "execution_count": null,
      "outputs": []
    },
    {
      "cell_type": "code",
      "metadata": {
        "ExecuteTime": {
          "end_time": "2020-07-13T12:04:43.711735Z",
          "start_time": "2020-07-13T12:04:43.316658Z"
        },
        "id": "QBzs705MPZPL",
        "colab_type": "code",
        "colab": {}
      },
      "source": [
        "mnist = tf.keras.datasets.mnist\n",
        "(x_train, y_train), (x_test, y_test) = mnist.load_data()"
      ],
      "execution_count": null,
      "outputs": []
    },
    {
      "cell_type": "code",
      "metadata": {
        "ExecuteTime": {
          "end_time": "2020-07-13T12:00:58.560073Z",
          "start_time": "2020-07-13T12:00:04.437Z"
        },
        "id": "_2Z2OqXoPZPP",
        "colab_type": "code",
        "colab": {}
      },
      "source": [
        "# x_data = np.concatenate((x_train, x_test))\n",
        "# y_data = np.concatenate((y_train, y_test)) "
      ],
      "execution_count": null,
      "outputs": []
    },
    {
      "cell_type": "code",
      "metadata": {
        "ExecuteTime": {
          "end_time": "2020-07-13T12:04:46.807002Z",
          "start_time": "2020-07-13T12:04:46.618989Z"
        },
        "code_folding": [
          0
        ],
        "id": "HlNHP2-5PZPV",
        "colab_type": "code",
        "colab": {}
      },
      "source": [
        "class NeuralNetwork:\n",
        "    x_train = []\n",
        "    y_train = []\n",
        "    x_test = []\n",
        "    y_test = []\n",
        "    L = 0\n",
        "    C = 0\n",
        "    n = []\n",
        "    m = 0\n",
        "    model = None\n",
        "    def __init__(self):\n",
        "        pass\n",
        "#     def __init__(self, x_data, y_data, C=2, divideRatio=0.7):\n",
        "#         self.m = x_data.shape[0]\n",
        "#         self.C = C\n",
        "#         x_data = x_data.reshape(self.m, -1)\n",
        "#         y_data = y_data.reshape(self.m)\n",
        "#         x_data, y_data = self.shuffle(x_data, y_data)\n",
        "#         x_data, y_data = self.normalize(x_data, y_data, C)\n",
        "#         self.divide_data(x_data, y_data, ratio=divideRatio)\n",
        "\n",
        "    def shuffle(self, x, y, seed=1):\n",
        "        permut = tf.random.shuffle(tf.range(x.shape[0]))\n",
        "        x = tf.gather(x, permut)\n",
        "        y = tf.gather(y, permut)\n",
        "        return x, y\n",
        "\n",
        "    def normalize(self, x, y, C):\n",
        "        x = tf.keras.utils.normalize(x)\n",
        "        y = tf.one_hot(y, depth=C)\n",
        "        return x, y\n",
        "\n",
        "    def divide_data(self, x, y, ratio=0.7):\n",
        "        self.x_train = x[0: int(self.m * ratio)]\n",
        "        self.y_train = y[0: int(self.m * ratio)]\n",
        "        self.x_test = x[int(self.m * ratio):]\n",
        "        self.y_test = y[int(self.m * ratio):]\n",
        "\n",
        "    def Model_init(self, inpModel=None):\n",
        "        if inpModel == None:\n",
        "            self.n = [self.x_train.shape[1], 128, 64, self.C]\n",
        "            self.model = tf.keras.Sequential([tf.keras.Input(shape=(self.n[0]))])\n",
        "            for i in self.n[1: -1]:\n",
        "                self.model.add(tf.keras.layers.Dense(i, activation=tf.nn.relu))\n",
        "                # self.model.add(tf.keras.layers.Dropout(0.2))\n",
        "            self.model.add(tf.keras.layers.Dense(self.n[-1]))\n",
        "        else:\n",
        "            self.n = []\n",
        "            self.model = inpModel\n",
        "\n",
        "    def Model_compile(self, learning_rate=0.001, epochCnt=1000, batchSize=64, verbose=1):\n",
        "        model = self.model\n",
        "        model.compile(optimizer='adam',\n",
        "                      loss=tf.keras.losses.CategoricalCrossentropy(from_logits=True),\n",
        "                      metrics=['accuracy'])\n",
        "        model.fit(self.x_train, self.y_train,\n",
        "                  epochs=epochCnt, batch_size=batchSize, verbose=verbose)\n",
        "\n",
        "    def Model_eval(self, xTest=None, yTest=None):\n",
        "        if xTest == None:\n",
        "            xTest = self.x_test\n",
        "        if yTest == None:\n",
        "            yTest = self.y_test\n",
        "        self.model.evaluate(xTest, yTest)\n"
      ],
      "execution_count": null,
      "outputs": []
    },
    {
      "cell_type": "code",
      "metadata": {
        "ExecuteTime": {
          "end_time": "2020-07-13T12:04:51.548041Z",
          "start_time": "2020-07-13T12:04:50.407038Z"
        },
        "id": "ymp_NLcHPZPZ",
        "colab_type": "code",
        "colab": {}
      },
      "source": [
        "# nn = NeuralNetwork(x_data, y_data, 10, divideRatio= x_train.shape[0]/x_data.shape[0])\n",
        "nn = NeuralNetwork()\n",
        "# print(nn.x_train.shape)"
      ],
      "execution_count": null,
      "outputs": []
    },
    {
      "cell_type": "code",
      "metadata": {
        "ExecuteTime": {
          "start_time": "2020-07-13T12:04:54.460Z"
        },
        "id": "wXwmlV1DPZPh",
        "colab_type": "code",
        "colab": {}
      },
      "source": [
        "nn.x_train = (x_train/255).reshape(-1, 28*28)\n",
        "nn.x_test = (x_test/255).reshape(-1, 28*28)\n",
        "nn.y_train = tf.one_hot(y_train, depth=10)\n",
        "nn.y_test = tf.one_hot(y_test, depth=10)\n",
        "nn.C = 10\n",
        "nn.m =x_train.shape[0]"
      ],
      "execution_count": null,
      "outputs": []
    },
    {
      "cell_type": "code",
      "metadata": {
        "ExecuteTime": {
          "end_time": "2020-07-13T11:08:41.274973Z",
          "start_time": "2020-07-13T11:08:27.932Z"
        },
        "id": "6_tcmMp8PZPo",
        "colab_type": "code",
        "colab": {}
      },
      "source": [
        "nn.Model_init()"
      ],
      "execution_count": null,
      "outputs": []
    },
    {
      "cell_type": "code",
      "metadata": {
        "ExecuteTime": {
          "end_time": "2020-07-13T11:08:41.277197Z",
          "start_time": "2020-07-13T11:08:27.936Z"
        },
        "id": "1rAAQyWbPZPs",
        "colab_type": "code",
        "colab": {
          "base_uri": "https://localhost:8080/",
          "height": 34
        },
        "outputId": "35849f3a-265e-41b9-de90-2ed5049221ca"
      },
      "source": [
        "nn.Model_compile(epochCnt=150, learning_rate=0.1, batchSize=nn.x_train.shape[0], verbose=0)\n",
        "nn.Model_eval()"
      ],
      "execution_count": null,
      "outputs": [
        {
          "output_type": "stream",
          "text": [
            "313/313 [==============================] - 0s 1ms/step - loss: 0.1583 - accuracy: 0.9551\n"
          ],
          "name": "stdout"
        }
      ]
    },
    {
      "cell_type": "code",
      "metadata": {
        "ExecuteTime": {
          "end_time": "2020-07-13T11:08:41.280029Z",
          "start_time": "2020-07-13T11:08:27.939Z"
        },
        "id": "rH89iGWePZPx",
        "colab_type": "code",
        "colab": {
          "base_uri": "https://localhost:8080/",
          "height": 34
        },
        "outputId": "01df58c5-7d9c-4205-8f23-d2e7dd3ead47"
      },
      "source": [
        "nn.Model_eval()"
      ],
      "execution_count": null,
      "outputs": [
        {
          "output_type": "stream",
          "text": [
            "313/313 [==============================] - 0s 1ms/step - loss: 0.1583 - accuracy: 0.9551\n"
          ],
          "name": "stdout"
        }
      ]
    },
    {
      "cell_type": "code",
      "metadata": {
        "id": "P_CmqmBzPZQH",
        "colab_type": "code",
        "colab": {}
      },
      "source": [
        ""
      ],
      "execution_count": null,
      "outputs": []
    }
  ]
}