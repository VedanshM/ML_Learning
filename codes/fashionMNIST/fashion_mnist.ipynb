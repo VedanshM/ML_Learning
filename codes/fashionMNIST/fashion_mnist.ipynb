{
 "cells": [
  {
   "cell_type": "markdown",
   "metadata": {
    "colab_type": "text",
    "id": "EqVL70JtrGp5"
   },
   "source": [
    "A NN for fashion_mnist data"
   ]
  },
  {
   "cell_type": "code",
   "execution_count": null,
   "metadata": {
    "colab": {},
    "colab_type": "code",
    "id": "ehIxo0lbrhl5"
   },
   "outputs": [],
   "source": [
    "import numpy as np\n",
    "import pandas as pd\n",
    "import matplotlib.pyplot as plt\n",
    "import tensorflow as tf\n",
    "from tensorflow import keras\n",
    "%matplotlib inline \n",
    "plt.style.use('dark_background')"
   ]
  },
  {
   "cell_type": "code",
   "execution_count": null,
   "metadata": {
    "colab": {},
    "colab_type": "code",
    "id": "HC99wafyrxDE"
   },
   "outputs": [],
   "source": [
    "dataset = keras.datasets.fashion_mnist"
   ]
  },
  {
   "cell_type": "code",
   "execution_count": null,
   "metadata": {
    "colab": {},
    "colab_type": "code",
    "id": "760BmjzCr8Il"
   },
   "outputs": [],
   "source": [
    "(x_train, y_train), (x_test, y_test) = dataset.load_data()"
   ]
  },
  {
   "cell_type": "code",
   "execution_count": null,
   "metadata": {
    "colab": {
     "base_uri": "https://localhost:8080/",
     "height": 84
    },
    "colab_type": "code",
    "id": "QBOhJWppsdLg",
    "outputId": "a3a9bd29-0548-4008-b257-6fb3d2c8a0d2"
   },
   "outputs": [
    {
     "name": "stdout",
     "output_type": "stream",
     "text": [
      "(60000, 28, 28)\n",
      "(60000,)\n",
      "(10000, 28, 28)\n",
      "(10000,)\n"
     ]
    }
   ],
   "source": [
    "for i in [x_train, y_train, x_test, y_test]:\n",
    "    print(i.shape)\n",
    "m = x_train.shape[0]"
   ]
  },
  {
   "cell_type": "markdown",
   "metadata": {
    "colab_type": "text",
    "id": "R0-Y2pBlxCsN"
   },
   "source": [
    "Though the mnist data seem to be shuffled i will shuffle it again."
   ]
  },
  {
   "cell_type": "code",
   "execution_count": null,
   "metadata": {
    "colab": {},
    "colab_type": "code",
    "id": "KYOdQM4bvtEd"
   },
   "outputs": [],
   "source": [
    "# permut = tf.random.shuffle(tf.range(m))\n",
    "# x_train = tf.gather(x_train, permut)\n",
    "# y_train = tf.gather(y_train, permut)"
   ]
  },
  {
   "cell_type": "code",
   "execution_count": null,
   "metadata": {
    "colab": {},
    "colab_type": "code",
    "id": "cRF4m_Uhw4wh"
   },
   "outputs": [],
   "source": [
    "# Preprocessing data\n",
    "x_train = keras.utils.normalize(x_train)"
   ]
  },
  {
   "cell_type": "code",
   "execution_count": null,
   "metadata": {
    "colab": {},
    "colab_type": "code",
    "id": "IdsSDfyczmFk"
   },
   "outputs": [],
   "source": [
    "def init():\n",
    "    model = keras.Sequential([\n",
    "                            keras.layers.Flatten(input_shape = (28, 28))\n",
    "    ])\n",
    "    n = [28*28, 128,  128,64, 10]\n",
    "    model.add(keras.layers.Dense(n[1],  activation='relu'))\n",
    "    model.add(keras.layers.Dropout(0.3))\n",
    "    model.add(keras.layers.Dense(n[2],  activation='relu'))\n",
    "    model.add(keras.layers.Dropout(0.3))\n",
    "    model.add(keras.layers.Dense(n[3],  activation='relu'))\n",
    "    model.add(keras.layers.Dense(n[-1]))\n",
    "    return model"
   ]
  },
  {
   "cell_type": "code",
   "execution_count": null,
   "metadata": {
    "colab": {},
    "colab_type": "code",
    "id": "nGy3iHRz3DgR"
   },
   "outputs": [],
   "source": [
    "alpha = 0.01\n",
    "batchSize = 128\n",
    "epochs = 100"
   ]
  },
  {
   "cell_type": "code",
   "execution_count": null,
   "metadata": {
    "colab": {
     "base_uri": "https://localhost:8080/",
     "height": 34
    },
    "colab_type": "code",
    "id": "3v4RnpF03GJv",
    "outputId": "36f01275-7f83-4bb9-d918-79409e5eb95e"
   },
   "outputs": [
    {
     "name": "stdout",
     "output_type": "stream",
     "text": [
      "0.01\n"
     ]
    }
   ],
   "source": [
    "print(alpha)\n",
    "model = init()\n",
    "model.compile(\n",
    "    optimizer= keras.optimizers.Adam(learning_rate=alpha),\n",
    "    loss = tf.losses.SparseCategoricalCrossentropy(from_logits=True),\n",
    "    metrics = ['accuracy']\n",
    ")"
   ]
  },
  {
   "cell_type": "code",
   "execution_count": null,
   "metadata": {
    "colab": {
     "base_uri": "https://localhost:8080/",
     "height": 1000
    },
    "colab_type": "code",
    "id": "O8GIh74f7J5F",
    "outputId": "5bf1ab2c-47c8-4a2f-e827-eefb859d8b47"
   },
   "outputs": [
    {
     "name": "stdout",
     "output_type": "stream",
     "text": [
      "Epoch 1/100\n",
      "469/469 [==============================] - 2s 4ms/step - loss: 0.6361 - accuracy: 0.7644\n",
      "Epoch 2/100\n",
      "469/469 [==============================] - 2s 4ms/step - loss: 0.5073 - accuracy: 0.8210\n",
      "Epoch 3/100\n",
      "469/469 [==============================] - 2s 3ms/step - loss: 0.4823 - accuracy: 0.8285\n",
      "Epoch 4/100\n",
      "469/469 [==============================] - 2s 3ms/step - loss: 0.4676 - accuracy: 0.8329\n",
      "Epoch 5/100\n",
      "469/469 [==============================] - 2s 3ms/step - loss: 0.4602 - accuracy: 0.8371\n",
      "Epoch 6/100\n",
      "469/469 [==============================] - 2s 5ms/step - loss: 0.4425 - accuracy: 0.8444\n",
      "Epoch 7/100\n",
      "469/469 [==============================] - 1s 3ms/step - loss: 0.4446 - accuracy: 0.8433\n",
      "Epoch 8/100\n",
      "469/469 [==============================] - 2s 3ms/step - loss: 0.4333 - accuracy: 0.8462\n",
      "Epoch 9/100\n",
      "469/469 [==============================] - 1s 3ms/step - loss: 0.4263 - accuracy: 0.8487\n",
      "Epoch 10/100\n",
      "469/469 [==============================] - 1s 3ms/step - loss: 0.4308 - accuracy: 0.8484\n",
      "Epoch 11/100\n",
      "469/469 [==============================] - 1s 3ms/step - loss: 0.4228 - accuracy: 0.8533\n",
      "Epoch 12/100\n",
      "469/469 [==============================] - 2s 4ms/step - loss: 0.4333 - accuracy: 0.8472\n",
      "Epoch 13/100\n",
      "469/469 [==============================] - 2s 3ms/step - loss: 0.4208 - accuracy: 0.8510\n",
      "Epoch 14/100\n",
      "469/469 [==============================] - 2s 4ms/step - loss: 0.4144 - accuracy: 0.8523\n",
      "Epoch 15/100\n",
      "469/469 [==============================] - 2s 3ms/step - loss: 0.4156 - accuracy: 0.8538\n",
      "Epoch 16/100\n",
      "469/469 [==============================] - 1s 3ms/step - loss: 0.4198 - accuracy: 0.8524\n",
      "Epoch 17/100\n",
      "469/469 [==============================] - 2s 4ms/step - loss: 0.4141 - accuracy: 0.8546\n",
      "Epoch 18/100\n",
      "469/469 [==============================] - 2s 4ms/step - loss: 0.4085 - accuracy: 0.8560\n",
      "Epoch 19/100\n",
      "469/469 [==============================] - 2s 4ms/step - loss: 0.4011 - accuracy: 0.8600\n",
      "Epoch 20/100\n",
      "469/469 [==============================] - 2s 4ms/step - loss: 0.3993 - accuracy: 0.8587\n",
      "Epoch 21/100\n",
      "469/469 [==============================] - 2s 4ms/step - loss: 0.4073 - accuracy: 0.8559\n",
      "Epoch 22/100\n",
      "469/469 [==============================] - 2s 4ms/step - loss: 0.4019 - accuracy: 0.8587\n",
      "Epoch 23/100\n",
      "469/469 [==============================] - 2s 4ms/step - loss: 0.4052 - accuracy: 0.8563\n",
      "Epoch 24/100\n",
      "469/469 [==============================] - 2s 4ms/step - loss: 0.4008 - accuracy: 0.8585\n",
      "Epoch 25/100\n",
      "469/469 [==============================] - 2s 3ms/step - loss: 0.4072 - accuracy: 0.8572\n",
      "Epoch 26/100\n",
      "469/469 [==============================] - 1s 3ms/step - loss: 0.4019 - accuracy: 0.8587\n",
      "Epoch 27/100\n",
      "469/469 [==============================] - 1s 3ms/step - loss: 0.3989 - accuracy: 0.8591\n",
      "Epoch 28/100\n",
      "469/469 [==============================] - 1s 3ms/step - loss: 0.4066 - accuracy: 0.8575\n",
      "Epoch 29/100\n",
      "469/469 [==============================] - 1s 3ms/step - loss: 0.4067 - accuracy: 0.8568\n",
      "Epoch 30/100\n",
      "469/469 [==============================] - 2s 3ms/step - loss: 0.3993 - accuracy: 0.8602\n",
      "Epoch 31/100\n",
      "469/469 [==============================] - 1s 3ms/step - loss: 0.4000 - accuracy: 0.8595\n",
      "Epoch 32/100\n",
      "469/469 [==============================] - 1s 3ms/step - loss: 0.4018 - accuracy: 0.8582\n",
      "Epoch 33/100\n",
      "469/469 [==============================] - 1s 3ms/step - loss: 0.4046 - accuracy: 0.8582\n",
      "Epoch 34/100\n",
      "469/469 [==============================] - 1s 3ms/step - loss: 0.3940 - accuracy: 0.8609\n",
      "Epoch 35/100\n",
      "469/469 [==============================] - 1s 3ms/step - loss: 0.3991 - accuracy: 0.8614\n",
      "Epoch 36/100\n",
      "469/469 [==============================] - 1s 3ms/step - loss: 0.3908 - accuracy: 0.8631\n",
      "Epoch 37/100\n",
      "469/469 [==============================] - 2s 4ms/step - loss: 0.3968 - accuracy: 0.8616\n",
      "Epoch 38/100\n",
      "469/469 [==============================] - 2s 4ms/step - loss: 0.3918 - accuracy: 0.8625\n",
      "Epoch 39/100\n",
      "469/469 [==============================] - 2s 4ms/step - loss: 0.3873 - accuracy: 0.8626\n",
      "Epoch 40/100\n",
      "469/469 [==============================] - 2s 4ms/step - loss: 0.4004 - accuracy: 0.8617\n",
      "Epoch 41/100\n",
      "469/469 [==============================] - 2s 4ms/step - loss: 0.4030 - accuracy: 0.8585\n",
      "Epoch 42/100\n",
      "469/469 [==============================] - 2s 4ms/step - loss: 0.4132 - accuracy: 0.8547\n",
      "Epoch 43/100\n",
      "469/469 [==============================] - 2s 4ms/step - loss: 0.4065 - accuracy: 0.8563\n",
      "Epoch 44/100\n",
      "469/469 [==============================] - 2s 4ms/step - loss: 0.3941 - accuracy: 0.8619\n",
      "Epoch 45/100\n",
      "469/469 [==============================] - 2s 4ms/step - loss: 0.3914 - accuracy: 0.8624\n",
      "Epoch 46/100\n",
      "469/469 [==============================] - 2s 4ms/step - loss: 0.3937 - accuracy: 0.8617\n",
      "Epoch 47/100\n",
      "469/469 [==============================] - 2s 4ms/step - loss: 0.3837 - accuracy: 0.8655\n",
      "Epoch 48/100\n",
      "469/469 [==============================] - 2s 4ms/step - loss: 0.3805 - accuracy: 0.8650\n",
      "Epoch 49/100\n",
      "469/469 [==============================] - 2s 4ms/step - loss: 0.3855 - accuracy: 0.8641\n",
      "Epoch 50/100\n",
      "469/469 [==============================] - 2s 4ms/step - loss: 0.3881 - accuracy: 0.8637\n",
      "Epoch 51/100\n",
      "469/469 [==============================] - 2s 4ms/step - loss: 0.3853 - accuracy: 0.8637\n",
      "Epoch 52/100\n",
      "469/469 [==============================] - 2s 4ms/step - loss: 0.3826 - accuracy: 0.8647\n",
      "Epoch 53/100\n",
      "469/469 [==============================] - 2s 4ms/step - loss: 0.3848 - accuracy: 0.8647\n",
      "Epoch 54/100\n",
      "469/469 [==============================] - 2s 4ms/step - loss: 0.3847 - accuracy: 0.8636\n",
      "Epoch 55/100\n",
      "469/469 [==============================] - 2s 4ms/step - loss: 0.3937 - accuracy: 0.8622\n",
      "Epoch 56/100\n",
      "469/469 [==============================] - 2s 4ms/step - loss: 0.3995 - accuracy: 0.8614\n",
      "Epoch 57/100\n",
      "469/469 [==============================] - 2s 4ms/step - loss: 0.3953 - accuracy: 0.8629\n",
      "Epoch 58/100\n",
      "469/469 [==============================] - 2s 4ms/step - loss: 0.3847 - accuracy: 0.8642\n",
      "Epoch 59/100\n",
      "469/469 [==============================] - 2s 4ms/step - loss: 0.3907 - accuracy: 0.8663\n",
      "Epoch 60/100\n",
      "469/469 [==============================] - 2s 4ms/step - loss: 0.3834 - accuracy: 0.8666\n",
      "Epoch 61/100\n",
      "469/469 [==============================] - 2s 4ms/step - loss: 0.3854 - accuracy: 0.8642\n",
      "Epoch 62/100\n",
      "469/469 [==============================] - 2s 4ms/step - loss: 0.3892 - accuracy: 0.8632\n",
      "Epoch 63/100\n",
      "469/469 [==============================] - 2s 4ms/step - loss: 0.3867 - accuracy: 0.8651\n",
      "Epoch 64/100\n",
      "469/469 [==============================] - 2s 4ms/step - loss: 0.3817 - accuracy: 0.8669\n",
      "Epoch 65/100\n",
      "469/469 [==============================] - 2s 4ms/step - loss: 0.3891 - accuracy: 0.8644\n",
      "Epoch 66/100\n",
      "469/469 [==============================] - 2s 4ms/step - loss: 0.3921 - accuracy: 0.8621\n",
      "Epoch 67/100\n",
      "469/469 [==============================] - 2s 4ms/step - loss: 0.3980 - accuracy: 0.8605\n",
      "Epoch 68/100\n",
      "469/469 [==============================] - 2s 4ms/step - loss: 0.3927 - accuracy: 0.8610\n",
      "Epoch 69/100\n",
      "469/469 [==============================] - 2s 4ms/step - loss: 0.3903 - accuracy: 0.8620\n",
      "Epoch 70/100\n",
      "469/469 [==============================] - 2s 4ms/step - loss: 0.3876 - accuracy: 0.8651\n",
      "Epoch 71/100\n",
      "469/469 [==============================] - 2s 4ms/step - loss: 0.3826 - accuracy: 0.8667\n",
      "Epoch 72/100\n",
      "469/469 [==============================] - 2s 4ms/step - loss: 0.3866 - accuracy: 0.8670\n",
      "Epoch 73/100\n",
      "469/469 [==============================] - 2s 4ms/step - loss: 0.3865 - accuracy: 0.8632\n",
      "Epoch 74/100\n",
      "469/469 [==============================] - 2s 4ms/step - loss: 0.3838 - accuracy: 0.8654\n",
      "Epoch 75/100\n",
      "469/469 [==============================] - 2s 4ms/step - loss: 0.3898 - accuracy: 0.8631\n",
      "Epoch 76/100\n",
      "469/469 [==============================] - 2s 4ms/step - loss: 0.3802 - accuracy: 0.8654\n",
      "Epoch 77/100\n",
      "469/469 [==============================] - 2s 4ms/step - loss: 0.3819 - accuracy: 0.8656\n",
      "Epoch 78/100\n",
      "469/469 [==============================] - 2s 4ms/step - loss: 0.3721 - accuracy: 0.8697\n",
      "Epoch 79/100\n",
      "469/469 [==============================] - 2s 4ms/step - loss: 0.3799 - accuracy: 0.8669\n",
      "Epoch 80/100\n",
      "469/469 [==============================] - 2s 4ms/step - loss: 0.3928 - accuracy: 0.8605\n",
      "Epoch 81/100\n",
      "469/469 [==============================] - 2s 4ms/step - loss: 0.3775 - accuracy: 0.8675\n",
      "Epoch 82/100\n",
      "469/469 [==============================] - 2s 4ms/step - loss: 0.3798 - accuracy: 0.8648\n",
      "Epoch 83/100\n",
      "469/469 [==============================] - 2s 4ms/step - loss: 0.3820 - accuracy: 0.8655\n",
      "Epoch 84/100\n",
      "469/469 [==============================] - 2s 4ms/step - loss: 0.3759 - accuracy: 0.8670\n",
      "Epoch 85/100\n",
      "469/469 [==============================] - 2s 4ms/step - loss: 0.3771 - accuracy: 0.8695\n",
      "Epoch 86/100\n",
      "469/469 [==============================] - 2s 4ms/step - loss: 0.3774 - accuracy: 0.8688\n",
      "Epoch 87/100\n",
      "469/469 [==============================] - 2s 4ms/step - loss: 0.3808 - accuracy: 0.8646\n",
      "Epoch 88/100\n",
      "469/469 [==============================] - 2s 4ms/step - loss: 0.4001 - accuracy: 0.8605\n",
      "Epoch 89/100\n",
      "469/469 [==============================] - 2s 4ms/step - loss: 0.3764 - accuracy: 0.8674\n",
      "Epoch 90/100\n",
      "469/469 [==============================] - 2s 4ms/step - loss: 0.3734 - accuracy: 0.8677\n",
      "Epoch 91/100\n",
      "469/469 [==============================] - 2s 4ms/step - loss: 0.3853 - accuracy: 0.8669\n",
      "Epoch 92/100\n",
      "469/469 [==============================] - 2s 4ms/step - loss: 0.3741 - accuracy: 0.8690\n",
      "Epoch 93/100\n",
      "469/469 [==============================] - 2s 4ms/step - loss: 0.3743 - accuracy: 0.8680\n",
      "Epoch 94/100\n",
      "469/469 [==============================] - 2s 4ms/step - loss: 0.3696 - accuracy: 0.8673\n",
      "Epoch 95/100\n",
      "469/469 [==============================] - 2s 4ms/step - loss: 0.3729 - accuracy: 0.8691\n",
      "Epoch 96/100\n",
      "469/469 [==============================] - 2s 4ms/step - loss: 0.3860 - accuracy: 0.8637\n",
      "Epoch 97/100\n",
      "469/469 [==============================] - 2s 4ms/step - loss: 0.3736 - accuracy: 0.8684\n",
      "Epoch 98/100\n",
      "469/469 [==============================] - 2s 4ms/step - loss: 0.3800 - accuracy: 0.8659\n",
      "Epoch 99/100\n",
      "469/469 [==============================] - 2s 4ms/step - loss: 0.3839 - accuracy: 0.8652\n",
      "Epoch 100/100\n",
      "469/469 [==============================] - 2s 4ms/step - loss: 0.3876 - accuracy: 0.8646\n"
     ]
    }
   ],
   "source": [
    " history = model.fit(x_train, y_train, \n",
    "                    batch_size=batchSize, epochs=epochs,\n",
    "                    # validation_data=(x_test,y_test),\n",
    "                    verbose=1)"
   ]
  },
  {
   "cell_type": "code",
   "execution_count": null,
   "metadata": {
    "colab": {
     "base_uri": "https://localhost:8080/",
     "height": 50
    },
    "colab_type": "code",
    "id": "VyTJYizP77F0",
    "outputId": "db247b96-17ff-444f-c98e-3ec7481b771b"
   },
   "outputs": [
    {
     "name": "stdout",
     "output_type": "stream",
     "text": [
      "313/313 [==============================] - 0s 1ms/step - loss: 364.7664 - accuracy: 0.8074\n"
     ]
    },
    {
     "data": {
      "text/plain": [
       "[364.766357421875, 0.8073999881744385]"
      ]
     },
     "execution_count": 20,
     "metadata": {
      "tags": []
     },
     "output_type": "execute_result"
    }
   ],
   "source": [
    "model.evaluate(x_test, y_test)"
   ]
  },
  {
   "cell_type": "code",
   "execution_count": null,
   "metadata": {
    "colab": {
     "base_uri": "https://localhost:8080/",
     "height": 563
    },
    "colab_type": "code",
    "id": "X97IEK9yzPxC",
    "outputId": "336c5ef9-c256-46f7-fbd8-fca38d974fcf"
   },
   "outputs": [
    {
     "data": {
      "image/png": "[encoded data removed]",
      "text/plain": [
       "<Figure size 432x288 with 1 Axes>"
      ]
     },
     "metadata": {
      "tags": []
     },
     "output_type": "display_data"
    },
    {
     "data": {
      "image/png": "[encoded data removed]",
      "text/plain": [
       "<Figure size 432x288 with 1 Axes>"
      ]
     },
     "metadata": {
      "tags": []
     },
     "output_type": "display_data"
    }
   ],
   "source": [
    "historyDict = history.history\n",
    "if 'loss' in historyDict:\n",
    "    plt.plot(historyDict['loss'])\n",
    "    plt.title('training loss')\n",
    "    plt.show()\n",
    "if 'val_loss' in historyDict:\n",
    "    plt.plot(historyDict['val_loss'])\n",
    "    plt.title('val loss')\n",
    "    plt.show()\n",
    "if 'accuracy' in historyDict:\n",
    "    plt.plot(historyDict['accuracy'], label='training')\n",
    "    if 'val_accuracy' in historyDict:\n",
    "        plt.plot(historyDict['val_accuracy'], label='val')\n",
    "    plt.legend()\n",
    "    plt.title('accuracy')\n",
    "    plt.show()"
   ]
  },
  {
   "cell_type": "code",
   "execution_count": null,
   "metadata": {
    "colab": {},
    "colab_type": "code",
    "id": "_ZLsDz0E7A7W"
   },
   "outputs": [],
   "source": []
  }
 ],
 "metadata": {
  "accelerator": "GPU",
  "colab": {
   "collapsed_sections": [],
   "name": "tf_fasion_mnist.ipynb",
   "provenance": []
  },
  "kernelspec": {
   "display_name": "Python 3",
   "language": "python",
   "name": "python3"
  },
  "language_info": {
   "codemirror_mode": {
    "name": "ipython",
    "version": 3
   },
   "file_extension": ".py",
   "mimetype": "text/x-python",
   "name": "python",
   "nbconvert_exporter": "python",
   "pygments_lexer": "ipython3",
   "version": "3.8.2"
  },
  "varInspector": {
   "cols": {
    "lenName": 16,
    "lenType": 16,
    "lenVar": 40
   },
   "kernels_config": {
    "python": {
     "delete_cmd_postfix": "",
     "delete_cmd_prefix": "del ",
     "library": "var_list.py",
     "varRefreshCmd": "print(var_dic_list())"
    },
    "r": {
     "delete_cmd_postfix": ") ",
     "delete_cmd_prefix": "rm(",
     "library": "var_list.r",
     "varRefreshCmd": "cat(var_dic_list()) "
    }
   },
   "types_to_exclude": [
    "module",
    "function",
    "builtin_function_or_method",
    "instance",
    "_Feature"
   ],
   "window_display": false
  }
 },
 "nbformat": 4,
 "nbformat_minor": 1
}
