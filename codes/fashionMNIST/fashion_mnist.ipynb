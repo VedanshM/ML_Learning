{
  "nbformat": 4,
  "nbformat_minor": 0,
  "metadata": {
    "colab": {
      "name": "fashion_mnist.ipynb",
      "provenance": [],
      "collapsed_sections": []
    },
    "kernelspec": {
      "name": "python3",
      "display_name": "Python 3"
    },
    "accelerator": "GPU"
  },
  "cells": [
    {
      "cell_type": "markdown",
      "metadata": {
        "id": "EqVL70JtrGp5",
        "colab_type": "text"
      },
      "source": [
        "A NN for fashion_mnist data"
      ]
    },
    {
      "cell_type": "code",
      "metadata": {
        "id": "ehIxo0lbrhl5",
        "colab_type": "code",
        "colab": {}
      },
      "source": [
        "import numpy as np\n",
        "import pandas as pd\n",
        "import matplotlib.pyplot as plt\n",
        "# for disabling gpu in tf\n",
        "# import os\n",
        "# os.environ[\"CUDA_VISIBLE_DEVICES\"]=\"-1\"\n",
        "import tensorflow as tf\n",
        "from tensorflow import keras\n",
        "from tensorflow.keras import layers\n",
        "%matplotlib inline \n",
        "plt.style.use('dark_background')"
      ],
      "execution_count": null,
      "outputs": []
    },
    {
      "cell_type": "code",
      "metadata": {
        "id": "HC99wafyrxDE",
        "colab_type": "code",
        "colab": {}
      },
      "source": [
        "gpus = tf.config.experimental.list_physical_devices('GPU')\n",
        "if gpus:\n",
        "    print(1)\n",
        "    try:\n",
        "        for gpu in gpus:\n",
        "            print(2)\n",
        "            tf.config.experimental.set_memory_growth(gpu, True)\n",
        "    except RuntimeError as e:\n",
        "        print(e)\n"
      ],
      "execution_count": null,
      "outputs": []
    },
    {
      "cell_type": "code",
      "metadata": {
        "id": "QBOhJWppsdLg",
        "colab_type": "code",
        "colab": {
          "base_uri": "https://localhost:8080/",
          "height": 88
        },
        "outputId": "e6d23af0-f0c3-4b95-8378-e5f15c87b30d"
      },
      "source": [
        "dataset = keras.datasets.fashion_mnist\n",
        "(x_train, y_train), (x_test, y_test) = dataset.load_data()\n",
        "for i in [x_train, y_train, x_test, y_test]:\n",
        "    print(i.shape)\n",
        "m = x_train.shape[0]\n",
        "x_train = x_train.reshape(-1, 28,28,1)/255\n",
        "x_test = x_test.reshape(-1, 28,28,1)/255"
      ],
      "execution_count": null,
      "outputs": [
        {
          "output_type": "stream",
          "text": [
            "(60000, 28, 28)\n",
            "(60000,)\n",
            "(10000, 28, 28)\n",
            "(10000,)\n"
          ],
          "name": "stdout"
        }
      ]
    },
    {
      "cell_type": "markdown",
      "metadata": {
        "id": "R0-Y2pBlxCsN",
        "colab_type": "text"
      },
      "source": [
        "Though the mnist data seem to be shuffled i will shuffle it again."
      ]
    },
    {
      "cell_type": "code",
      "metadata": {
        "id": "U9zNhq2K_5gB",
        "colab_type": "code",
        "colab": {}
      },
      "source": [
        "valSize = 6000\n",
        "permut = np.arange(x_test.shape[0])\n",
        "x_test = x_test[permut]\n",
        "y_test = y_test[permut]\n",
        "x_test, x_val = x_test[valSize:], x_test[:valSize]\n",
        "y_test, y_val = y_test[valSize:], y_test[:valSize]"
      ],
      "execution_count": null,
      "outputs": []
    },
    {
      "cell_type": "code",
      "metadata": {
        "id": "760BmjzCr8Il",
        "colab_type": "code",
        "colab": {}
      },
      "source": [
        "%load_ext tensorboard\n",
        "!rm -rf ./logs/\n",
        "import datetime\n",
        "log_dir = \"logs/fit/\" + datetime.datetime.now().strftime(\"%Y%m%d-%H%M%S\")\n",
        "tensorboard_callback = tf.keras.callbacks.TensorBoard(log_dir=log_dir, histogram_freq=1)"
      ],
      "execution_count": null,
      "outputs": []
    },
    {
      "cell_type": "code",
      "metadata": {
        "id": "IdsSDfyczmFk",
        "colab_type": "code",
        "colab": {}
      },
      "source": [
        "model = keras.Sequential([\n",
        "                        layers.Input((28,28,1)),\n",
        "                        layers.Conv2D(16, kernel_size=(3,3), padding='same', activation='relu'),\n",
        "                        # layers.BatchNormalization(),\n",
        "                        layers.MaxPool2D(pool_size=(2,2), strides=2),\n",
        "\n",
        "                        layers.Conv2D(32, kernel_size=(3,3), padding='same'),\n",
        "                        # layers.BatchNormalization(),\n",
        "                        layers.MaxPool2D(pool_size=(2,2), strides=2),\n",
        "                        layers.Dropout(0.5),\n",
        "\n",
        "                        layers.Flatten(),\n",
        "                        layers.Dense(256, activation='relu'),\n",
        "                        layers.Dropout(0.5),\n",
        "                        layers.Dense(64, activation='relu'),\n",
        "                        layers.Dropout(0.5),\n",
        "                        layers.Dense(10,activation=None)\n",
        "])\n",
        "model.summary()"
      ],
      "execution_count": null,
      "outputs": []
    },
    {
      "cell_type": "code",
      "metadata": {
        "id": "nGy3iHRz3DgR",
        "colab_type": "code",
        "colab": {}
      },
      "source": [
        "alpha = 0.001\n",
        "batchSize = 64\n",
        "epochs = 10"
      ],
      "execution_count": null,
      "outputs": []
    },
    {
      "cell_type": "code",
      "metadata": {
        "id": "3v4RnpF03GJv",
        "colab_type": "code",
        "colab": {}
      },
      "source": [
        "model.compile(\n",
        "    optimizer= keras.optimizers.Adam(learning_rate=alpha),\n",
        "    loss = tf.losses.SparseCategoricalCrossentropy(from_logits=True),\n",
        "    metrics = ['accuracy']\n",
        ")"
      ],
      "execution_count": null,
      "outputs": []
    },
    {
      "cell_type": "code",
      "metadata": {
        "id": "SvHiywQCyrA6",
        "colab_type": "code",
        "colab": {}
      },
      "source": [
        "%tensorboard --logdir logs/fit"
      ],
      "execution_count": null,
      "outputs": []
    },
    {
      "cell_type": "code",
      "metadata": {
        "id": "O8GIh74f7J5F",
        "colab_type": "code",
        "colab": {}
      },
      "source": [
        " history = model.fit(x_train, y_train, \n",
        "                    batch_size=batchSize, epochs=20,\n",
        "                    validation_data=(x_val,y_val),\n",
        "                    callbacks=[tensorboard_callback],\n",
        "                    verbose=1,\n",
        "                    initial_epoch=10\n",
        "                     )"
      ],
      "execution_count": null,
      "outputs": []
    },
    {
      "cell_type": "code",
      "metadata": {
        "id": "X97IEK9yzPxC",
        "colab_type": "code",
        "colab": {
          "base_uri": "https://localhost:8080/",
          "height": 836
        },
        "outputId": "9fd6ed0e-4ba5-4682-cb58-76c1d73ad4d8"
      },
      "source": [
        "historyDict = history.history\n",
        "if 'loss' in historyDict:\n",
        "    plt.plot(historyDict['loss'])\n",
        "    plt.title('training loss')\n",
        "    plt.show()\n",
        "if 'val_loss' in historyDict:\n",
        "    plt.plot(historyDict['val_loss'])\n",
        "    plt.title('val loss')\n",
        "    plt.show()\n",
        "if 'accuracy' in historyDict:\n",
        "    plt.plot(historyDict['accuracy'], label='training')\n",
        "    if 'val_accuracy' in historyDict:\n",
        "        plt.plot(historyDict['val_accuracy'], label='val')\n",
        "    plt.legend()\n",
        "    plt.title('accuracy')\n",
        "    plt.show()"
      ],
      "execution_count": null,
      "outputs": [
        {
          "output_type": "display_data",
          "data": {
            "text/plain": [
              "<Figure size 432x288 with 1 Axes>"
            ],
            "image/png": "[encoded data removed]"
          },
          "metadata": {
            "tags": []
          }
        },
        {
          "output_type": "display_data",
          "data": {
            "text/plain": [
              "<Figure size 432x288 with 1 Axes>"
            ],
            "image/png": "[encoded data removed]"
          },
          "metadata": {
            "tags": []
          }
        },
        {
          "output_type": "display_data",
          "data": {
            "text/plain": [
              "<Figure size 432x288 with 1 Axes>"
            ],
            "image/png": "[encoded data removed]"
          },
          "metadata": {
            "tags": []
          }
        }
      ]
    },
    {
      "cell_type": "code",
      "metadata": {
        "id": "VyTJYizP77F0",
        "colab_type": "code",
        "colab": {
          "base_uri": "https://localhost:8080/",
          "height": 52
        },
        "outputId": "8143ea48-3ca6-4191-be02-d48e69d6fd0b"
      },
      "source": [
        "model.evaluate(x_test, y_test)"
      ],
      "execution_count": null,
      "outputs": [
        {
          "output_type": "stream",
          "text": [
            "125/125 [==============================] - 1s 10ms/step - loss: 0.1989 - accuracy: 0.9280\n"
          ],
          "name": "stdout"
        },
        {
          "output_type": "execute_result",
          "data": {
            "text/plain": [
              "[0.19889821112155914, 0.9279999732971191]"
            ]
          },
          "metadata": {
            "tags": []
          },
          "execution_count": 29
        }
      ]
    },
    {
      "cell_type": "code",
      "metadata": {
        "id": "GYjYAjjdF4wL",
        "colab_type": "code",
        "colab": {}
      },
      "source": [
        "# !rm -rf logs/"
      ],
      "execution_count": null,
      "outputs": []
    },
    {
      "cell_type": "code",
      "metadata": {
        "id": "pZFCVC3MPAU0",
        "colab_type": "code",
        "colab": {}
      },
      "source": [
        "# "
      ],
      "execution_count": null,
      "outputs": []
    }
  ]
}